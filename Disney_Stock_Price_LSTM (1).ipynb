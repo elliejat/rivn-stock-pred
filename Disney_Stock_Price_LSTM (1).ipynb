{
 "cells": [
  {
   "cell_type": "code",
   "execution_count": 1,
   "id": "d378bffa",
   "metadata": {
    "colab": {
     "base_uri": "https://localhost:8080/"
    },
    "id": "d378bffa",
    "outputId": "09c80715-c1a7-4059-b7d7-25f902ce5856",
    "scrolled": true
   },
   "outputs": [
    {
     "name": "stdout",
     "output_type": "stream",
     "text": [
      "Looking in indexes: https://pypi.org/simple, https://us-python.pkg.dev/colab-wheels/public/simple/\n",
      "Requirement already satisfied: yfinance in /usr/local/lib/python3.10/dist-packages (0.2.18)\n",
      "Requirement already satisfied: pandas>=1.3.0 in /usr/local/lib/python3.10/dist-packages (from yfinance) (1.5.3)\n",
      "Requirement already satisfied: numpy>=1.16.5 in /usr/local/lib/python3.10/dist-packages (from yfinance) (1.22.4)\n",
      "Requirement already satisfied: requests>=2.26 in /usr/local/lib/python3.10/dist-packages (from yfinance) (2.27.1)\n",
      "Requirement already satisfied: multitasking>=0.0.7 in /usr/local/lib/python3.10/dist-packages (from yfinance) (0.0.11)\n",
      "Requirement already satisfied: lxml>=4.9.1 in /usr/local/lib/python3.10/dist-packages (from yfinance) (4.9.2)\n",
      "Requirement already satisfied: appdirs>=1.4.4 in /usr/local/lib/python3.10/dist-packages (from yfinance) (1.4.4)\n",
      "Requirement already satisfied: pytz>=2022.5 in /usr/local/lib/python3.10/dist-packages (from yfinance) (2022.7.1)\n",
      "Requirement already satisfied: frozendict>=2.3.4 in /usr/local/lib/python3.10/dist-packages (from yfinance) (2.3.7)\n",
      "Requirement already satisfied: cryptography>=3.3.2 in /usr/local/lib/python3.10/dist-packages (from yfinance) (40.0.2)\n",
      "Requirement already satisfied: beautifulsoup4>=4.11.1 in /usr/local/lib/python3.10/dist-packages (from yfinance) (4.11.2)\n",
      "Requirement already satisfied: html5lib>=1.1 in /usr/local/lib/python3.10/dist-packages (from yfinance) (1.1)\n",
      "Requirement already satisfied: soupsieve>1.2 in /usr/local/lib/python3.10/dist-packages (from beautifulsoup4>=4.11.1->yfinance) (2.4.1)\n",
      "Requirement already satisfied: cffi>=1.12 in /usr/local/lib/python3.10/dist-packages (from cryptography>=3.3.2->yfinance) (1.15.1)\n",
      "Requirement already satisfied: six>=1.9 in /usr/local/lib/python3.10/dist-packages (from html5lib>=1.1->yfinance) (1.16.0)\n",
      "Requirement already satisfied: webencodings in /usr/local/lib/python3.10/dist-packages (from html5lib>=1.1->yfinance) (0.5.1)\n",
      "Requirement already satisfied: python-dateutil>=2.8.1 in /usr/local/lib/python3.10/dist-packages (from pandas>=1.3.0->yfinance) (2.8.2)\n",
      "Requirement already satisfied: urllib3<1.27,>=1.21.1 in /usr/local/lib/python3.10/dist-packages (from requests>=2.26->yfinance) (1.26.15)\n",
      "Requirement already satisfied: certifi>=2017.4.17 in /usr/local/lib/python3.10/dist-packages (from requests>=2.26->yfinance) (2022.12.7)\n",
      "Requirement already satisfied: charset-normalizer~=2.0.0 in /usr/local/lib/python3.10/dist-packages (from requests>=2.26->yfinance) (2.0.12)\n",
      "Requirement already satisfied: idna<4,>=2.5 in /usr/local/lib/python3.10/dist-packages (from requests>=2.26->yfinance) (3.4)\n",
      "Requirement already satisfied: pycparser in /usr/local/lib/python3.10/dist-packages (from cffi>=1.12->cryptography>=3.3.2->yfinance) (2.21)\n"
     ]
    }
   ],
   "source": [
    "pip install yfinance"
   ]
  },
  {
   "cell_type": "code",
   "execution_count": 4,
   "id": "d4a17f35",
   "metadata": {
    "id": "d4a17f35"
   },
   "outputs": [],
   "source": [
    "import pandas as pd\n",
    "import numpy as np\n",
    "import math\n",
    "\n",
    "#Plots \n",
    "import matplotlib.pyplot as plt\n",
    "\n",
    "#stats\n",
    "from statsmodels.tsa.seasonal import seasonal_decompose"
   ]
  },
  {
   "cell_type": "code",
   "execution_count": 5,
   "id": "53885609",
   "metadata": {
    "id": "53885609"
   },
   "outputs": [],
   "source": [
    "import yfinance as yf"
   ]
  },
  {
   "cell_type": "code",
   "execution_count": 6,
   "id": "dc1bbdd2",
   "metadata": {
    "colab": {
     "base_uri": "https://localhost:8080/"
    },
    "id": "dc1bbdd2",
    "outputId": "a46aa7f6-1921-4530-dba9-d04b2c4a2f60"
   },
   "outputs": [
    {
     "name": "stdout",
     "output_type": "stream",
     "text": [
      "[*********************100%***********************]  1 of 1 completed\n"
     ]
    }
   ],
   "source": [
    "#dis= yf.Ticker(\"DIS\")\n",
    "dis= yf.download(tickers = \"DIS\",  # list of tickers\n",
    "            period = \"3y\",         # time period\n",
    "            interval = \"1d\",       # trading interval\n",
    "            prepost = False,       # download pre/post market hours data?\n",
    "            repair = True)"
   ]
  },
  {
   "cell_type": "code",
   "execution_count": 7,
   "id": "ea03d457",
   "metadata": {
    "colab": {
     "base_uri": "https://localhost:8080/",
     "height": 455
    },
    "id": "ea03d457",
    "outputId": "da5846dc-0682-4d89-9450-425d16e7397c",
    "scrolled": true
   },
   "outputs": [
    {
     "data": {
      "text/html": [
       "<div>\n",
       "<style scoped>\n",
       "    .dataframe tbody tr th:only-of-type {\n",
       "        vertical-align: middle;\n",
       "    }\n",
       "\n",
       "    .dataframe tbody tr th {\n",
       "        vertical-align: top;\n",
       "    }\n",
       "\n",
       "    .dataframe thead th {\n",
       "        text-align: right;\n",
       "    }\n",
       "</style>\n",
       "<table border=\"1\" class=\"dataframe\">\n",
       "  <thead>\n",
       "    <tr style=\"text-align: right;\">\n",
       "      <th></th>\n",
       "      <th>Open</th>\n",
       "      <th>High</th>\n",
       "      <th>Low</th>\n",
       "      <th>Close</th>\n",
       "      <th>Adj Close</th>\n",
       "      <th>Volume</th>\n",
       "    </tr>\n",
       "    <tr>\n",
       "      <th>Date</th>\n",
       "      <th></th>\n",
       "      <th></th>\n",
       "      <th></th>\n",
       "      <th></th>\n",
       "      <th></th>\n",
       "      <th></th>\n",
       "    </tr>\n",
       "  </thead>\n",
       "  <tbody>\n",
       "    <tr>\n",
       "      <th>2020-05-13</th>\n",
       "      <td>104.500000</td>\n",
       "      <td>104.540001</td>\n",
       "      <td>101.599998</td>\n",
       "      <td>102.919998</td>\n",
       "      <td>102.919998</td>\n",
       "      <td>21085800</td>\n",
       "    </tr>\n",
       "    <tr>\n",
       "      <th>2020-05-14</th>\n",
       "      <td>101.980003</td>\n",
       "      <td>105.919998</td>\n",
       "      <td>99.660004</td>\n",
       "      <td>105.910004</td>\n",
       "      <td>105.910004</td>\n",
       "      <td>22002200</td>\n",
       "    </tr>\n",
       "    <tr>\n",
       "      <th>2020-05-15</th>\n",
       "      <td>104.980003</td>\n",
       "      <td>109.379997</td>\n",
       "      <td>104.269997</td>\n",
       "      <td>109.050003</td>\n",
       "      <td>109.050003</td>\n",
       "      <td>29766000</td>\n",
       "    </tr>\n",
       "    <tr>\n",
       "      <th>2020-05-18</th>\n",
       "      <td>114.470001</td>\n",
       "      <td>119.779999</td>\n",
       "      <td>114.470001</td>\n",
       "      <td>116.849998</td>\n",
       "      <td>116.849998</td>\n",
       "      <td>40044600</td>\n",
       "    </tr>\n",
       "    <tr>\n",
       "      <th>2020-05-19</th>\n",
       "      <td>115.099998</td>\n",
       "      <td>116.470001</td>\n",
       "      <td>113.419998</td>\n",
       "      <td>114.370003</td>\n",
       "      <td>114.370003</td>\n",
       "      <td>20332600</td>\n",
       "    </tr>\n",
       "    <tr>\n",
       "      <th>...</th>\n",
       "      <td>...</td>\n",
       "      <td>...</td>\n",
       "      <td>...</td>\n",
       "      <td>...</td>\n",
       "      <td>...</td>\n",
       "      <td>...</td>\n",
       "    </tr>\n",
       "    <tr>\n",
       "      <th>2023-05-08</th>\n",
       "      <td>101.699997</td>\n",
       "      <td>103.910004</td>\n",
       "      <td>101.690002</td>\n",
       "      <td>102.970001</td>\n",
       "      <td>102.970001</td>\n",
       "      <td>10810100</td>\n",
       "    </tr>\n",
       "    <tr>\n",
       "      <th>2023-05-09</th>\n",
       "      <td>102.910004</td>\n",
       "      <td>102.980003</td>\n",
       "      <td>102.089996</td>\n",
       "      <td>102.180000</td>\n",
       "      <td>102.180000</td>\n",
       "      <td>6829900</td>\n",
       "    </tr>\n",
       "    <tr>\n",
       "      <th>2023-05-10</th>\n",
       "      <td>103.000000</td>\n",
       "      <td>103.250000</td>\n",
       "      <td>100.040001</td>\n",
       "      <td>101.139999</td>\n",
       "      <td>101.139999</td>\n",
       "      <td>19525200</td>\n",
       "    </tr>\n",
       "    <tr>\n",
       "      <th>2023-05-11</th>\n",
       "      <td>94.800003</td>\n",
       "      <td>95.110001</td>\n",
       "      <td>91.879997</td>\n",
       "      <td>92.309998</td>\n",
       "      <td>92.309998</td>\n",
       "      <td>57127200</td>\n",
       "    </tr>\n",
       "    <tr>\n",
       "      <th>2023-05-12</th>\n",
       "      <td>92.339996</td>\n",
       "      <td>92.879997</td>\n",
       "      <td>91.239998</td>\n",
       "      <td>91.989998</td>\n",
       "      <td>91.989998</td>\n",
       "      <td>21817200</td>\n",
       "    </tr>\n",
       "  </tbody>\n",
       "</table>\n",
       "<p>756 rows × 6 columns</p>\n",
       "</div>"
      ],
      "text/plain": [
       "                  Open        High         Low       Close   Adj Close  \\\n",
       "Date                                                                     \n",
       "2020-05-13  104.500000  104.540001  101.599998  102.919998  102.919998   \n",
       "2020-05-14  101.980003  105.919998   99.660004  105.910004  105.910004   \n",
       "2020-05-15  104.980003  109.379997  104.269997  109.050003  109.050003   \n",
       "2020-05-18  114.470001  119.779999  114.470001  116.849998  116.849998   \n",
       "2020-05-19  115.099998  116.470001  113.419998  114.370003  114.370003   \n",
       "...                ...         ...         ...         ...         ...   \n",
       "2023-05-08  101.699997  103.910004  101.690002  102.970001  102.970001   \n",
       "2023-05-09  102.910004  102.980003  102.089996  102.180000  102.180000   \n",
       "2023-05-10  103.000000  103.250000  100.040001  101.139999  101.139999   \n",
       "2023-05-11   94.800003   95.110001   91.879997   92.309998   92.309998   \n",
       "2023-05-12   92.339996   92.879997   91.239998   91.989998   91.989998   \n",
       "\n",
       "              Volume  \n",
       "Date                  \n",
       "2020-05-13  21085800  \n",
       "2020-05-14  22002200  \n",
       "2020-05-15  29766000  \n",
       "2020-05-18  40044600  \n",
       "2020-05-19  20332600  \n",
       "...              ...  \n",
       "2023-05-08  10810100  \n",
       "2023-05-09   6829900  \n",
       "2023-05-10  19525200  \n",
       "2023-05-11  57127200  \n",
       "2023-05-12  21817200  \n",
       "\n",
       "[756 rows x 6 columns]"
      ]
     },
     "execution_count": 7,
     "metadata": {},
     "output_type": "execute_result"
    }
   ],
   "source": [
    "dis"
   ]
  },
  {
   "cell_type": "code",
   "execution_count": 8,
   "id": "bb167084",
   "metadata": {
    "id": "bb167084"
   },
   "outputs": [],
   "source": [
    "#dis['Close'] = dis['Close'].astype(int)"
   ]
  },
  {
   "cell_type": "code",
   "execution_count": 9,
   "id": "c1a5c43b",
   "metadata": {
    "id": "c1a5c43b"
   },
   "outputs": [],
   "source": [
    "DIS= dis[[\"Close\"]]\n",
    "DIS.index.frequency = 'D'\n",
    "DIS\n",
    "data= DIS.values"
   ]
  },
  {
   "cell_type": "code",
   "execution_count": 10,
   "id": "9de46866",
   "metadata": {
    "id": "9de46866"
   },
   "outputs": [],
   "source": [
    "DIS.set_index(\"Close\")\n",
    "DIS.index = pd.to_datetime(DIS.index)"
   ]
  },
  {
   "cell_type": "code",
   "execution_count": 11,
   "id": "af14bb72",
   "metadata": {
    "colab": {
     "base_uri": "https://localhost:8080/",
     "height": 533
    },
    "id": "af14bb72",
    "outputId": "d669a6bd-c5a1-4e4e-8806-9484dd907377",
    "scrolled": true
   },
   "outputs": [
    {
     "data": {
      "text/plain": [
       "<AxesSubplot:xlabel='Date'>"
      ]
     },
     "execution_count": 11,
     "metadata": {},
     "output_type": "execute_result"
    },
    {
     "data": {
      "image/png": "[encoded data removed]",
      "text/plain": [
       "<Figure size 1200x600 with 1 Axes>"
      ]
     },
     "metadata": {},
     "output_type": "display_data"
    }
   ],
   "source": [
    "DIS.plot(figsize=(12,6))"
   ]
  },
  {
   "cell_type": "code",
   "execution_count": 12,
   "id": "c85801ef",
   "metadata": {
    "id": "c85801ef"
   },
   "outputs": [],
   "source": [
    "from statsmodels.tsa.seasonal import seasonal_decompose"
   ]
  },
  {
   "cell_type": "code",
   "execution_count": 13,
   "id": "f9937d6b",
   "metadata": {
    "colab": {
     "base_uri": "https://localhost:8080/",
     "height": 487
    },
    "id": "f9937d6b",
    "outputId": "953e7d47-4182-4780-8184-1a6e97d176e0",
    "scrolled": true
   },
   "outputs": [
    {
     "data": {
      "image/png": "[encoded data removed]",
      "text/plain": [
       "<Figure size 640x480 with 4 Axes>"
      ]
     },
     "metadata": {},
     "output_type": "display_data"
    }
   ],
   "source": [
    "results = seasonal_decompose (DIS[\"Close\"], period= 1)\n",
    "results.plot();"
   ]
  },
  {
   "cell_type": "code",
   "execution_count": 14,
   "id": "9b193446",
   "metadata": {
    "colab": {
     "base_uri": "https://localhost:8080/"
    },
    "id": "9b193446",
    "outputId": "3bc3e6d1-0ddb-498d-d6c0-1baf7b865d7e"
   },
   "outputs": [
    {
     "data": {
      "text/plain": [
       "756"
      ]
     },
     "execution_count": 14,
     "metadata": {},
     "output_type": "execute_result"
    }
   ],
   "source": [
    "len(DIS)"
   ]
  },
  {
   "cell_type": "code",
   "execution_count": null,
   "id": "e675dd7d",
   "metadata": {
    "id": "e675dd7d"
   },
   "outputs": [],
   "source": []
  },
  {
   "cell_type": "code",
   "execution_count": null,
   "id": "a14b5a9e",
   "metadata": {
    "id": "a14b5a9e"
   },
   "outputs": [],
   "source": []
  },
  {
   "cell_type": "markdown",
   "id": "59be2258",
   "metadata": {
    "id": "59be2258"
   },
   "source": [
    "# data preprocessing"
   ]
  },
  {
   "cell_type": "code",
   "execution_count": 15,
   "id": "bf75ff7e",
   "metadata": {
    "id": "bf75ff7e"
   },
   "outputs": [],
   "source": [
    "#train = DIS.iloc[:755]\n",
    "#test = DIS.iloc[755:]"
   ]
  },
  {
   "cell_type": "code",
   "execution_count": 16,
   "id": "5649e7d6",
   "metadata": {
    "colab": {
     "base_uri": "https://localhost:8080/"
    },
    "id": "5649e7d6",
    "outputId": "29a3be6f-c269-4c20-f55a-bdd69bd52347"
   },
   "outputs": [
    {
     "data": {
      "text/plain": [
       "605"
      ]
     },
     "execution_count": 16,
     "metadata": {},
     "output_type": "execute_result"
    }
   ],
   "source": [
    "train_data_len = math.ceil(len(DIS)*.8)\n",
    "\n",
    "train_data_len"
   ]
  },
  {
   "cell_type": "code",
   "execution_count": 17,
   "id": "19654748",
   "metadata": {
    "id": "19654748"
   },
   "outputs": [],
   "source": [
    "from sklearn.preprocessing import MinMaxScaler "
   ]
  },
  {
   "cell_type": "code",
   "execution_count": 18,
   "id": "e414339e",
   "metadata": {
    "colab": {
     "base_uri": "https://localhost:8080/"
    },
    "id": "e414339e",
    "outputId": "70adcf43-f368-4b1f-c4b1-c8d23bb53f67"
   },
   "outputs": [
    {
     "data": {
      "text/plain": [
       "array([[0.15924919],\n",
       "       [0.18464417],\n",
       "       [0.21131309],\n",
       "       [0.27756072],\n",
       "       [0.25649739],\n",
       "       [0.30363511],\n",
       "       [0.28588417],\n",
       "       [0.28749785],\n",
       "       [0.31238319],\n",
       "       [0.31730932],\n",
       "       [0.2767114 ],\n",
       "       [0.28138274],\n",
       "       [0.29386782],\n",
       "       [0.29369798],\n",
       "       [0.32282997],\n",
       "       [0.33565485],\n",
       "       [0.34525225],\n",
       "       [0.36614573],\n",
       "       [0.33735349],\n",
       "       [0.32282997],\n",
       "       [0.24180397],\n",
       "       [0.26600984],\n",
       "       [0.2795142 ],\n",
       "       [0.29106508],\n",
       "       [0.28435537],\n",
       "       [0.29047055],\n",
       "       [0.25632749],\n",
       "       [0.26966195],\n",
       "       [0.27535244],\n",
       "       [0.2369628 ],\n",
       "       [0.23093257],\n",
       "       [0.21173772],\n",
       "       [0.23229147],\n",
       "       [0.23220658],\n",
       "       [0.24494651],\n",
       "       [0.23789707],\n",
       "       [0.25700697],\n",
       "       [0.25021231],\n",
       "       [0.27594704],\n",
       "       [0.27722098],\n",
       "       [0.29870899],\n",
       "       [0.27220997],\n",
       "       [0.29293362],\n",
       "       [0.31195857],\n",
       "       [0.29947342],\n",
       "       [0.29284866],\n",
       "       [0.28554443],\n",
       "       [0.29259388],\n",
       "       [0.29607609],\n",
       "       [0.28834723],\n",
       "       [0.28401564],\n",
       "       [0.27297433],\n",
       "       [0.27187023],\n",
       "       [0.26702906],\n",
       "       [0.26745375],\n",
       "       [0.27832515],\n",
       "       [0.27331407],\n",
       "       [0.28129778],\n",
       "       [0.36894853],\n",
       "       [0.39621205],\n",
       "       [0.3886529 ],\n",
       "       [0.37897055],\n",
       "       [0.39340925],\n",
       "       [0.40445042],\n",
       "       [0.39740111],\n",
       "       [0.39374893],\n",
       "       [0.38389668],\n",
       "       [0.38007472],\n",
       "       [0.37030743],\n",
       "       [0.37328007],\n",
       "       [0.36750469],\n",
       "       [0.39510788],\n",
       "       [0.38746384],\n",
       "       [0.4077628 ],\n",
       "       [0.42092743],\n",
       "       [0.43630026],\n",
       "       [0.4051299 ],\n",
       "       [0.4193987 ],\n",
       "       [0.43502632],\n",
       "       [0.4167658 ],\n",
       "       [0.40614919],\n",
       "       [0.42491928],\n",
       "       [0.41778495],\n",
       "       [0.4165959 ],\n",
       "       [0.40411075],\n",
       "       [0.3998641 ],\n",
       "       [0.39977922],\n",
       "       [0.40699844],\n",
       "       [0.39111603],\n",
       "       [0.37761173],\n",
       "       [0.35026332],\n",
       "       [0.36555121],\n",
       "       [0.33217257],\n",
       "       [0.32546287],\n",
       "       [0.33828775],\n",
       "       [0.35518938],\n",
       "       [0.35017837],\n",
       "       [0.33896723],\n",
       "       [0.33242736],\n",
       "       [0.32597251],\n",
       "       [0.332937  ],\n",
       "       [0.31221336],\n",
       "       [0.3290301 ],\n",
       "       [0.33055883],\n",
       "       [0.34661121],\n",
       "       [0.34652625],\n",
       "       [0.38041453],\n",
       "       [0.36028534],\n",
       "       [0.36682521],\n",
       "       [0.36215388],\n",
       "       [0.34024124],\n",
       "       [0.34635635],\n",
       "       [0.36062508],\n",
       "       [0.36852384],\n",
       "       [0.37523362],\n",
       "       [0.33879733],\n",
       "       [0.33242736],\n",
       "       [0.29131987],\n",
       "       [0.31739427],\n",
       "       [0.31493121],\n",
       "       [0.3054187 ],\n",
       "       [0.33845759],\n",
       "       [0.34737557],\n",
       "       [0.36342788],\n",
       "       [0.36767453],\n",
       "       [0.49617798],\n",
       "       [0.49210124],\n",
       "       [0.45566508],\n",
       "       [0.43613049],\n",
       "       [0.4602514 ],\n",
       "       [0.51384404],\n",
       "       [0.5124002 ],\n",
       "       [0.50730417],\n",
       "       [0.48878886],\n",
       "       [0.48326827],\n",
       "       [0.52497023],\n",
       "       [0.57176834],\n",
       "       [0.55138437],\n",
       "       [0.53473759],\n",
       "       [0.5422116 ],\n",
       "       [0.55435707],\n",
       "       [0.58977407],\n",
       "       [0.5866316 ],\n",
       "       [0.5942755 ],\n",
       "       [0.59036853],\n",
       "       [0.59070834],\n",
       "       [0.5967385 ],\n",
       "       [0.59894684],\n",
       "       [0.77756072],\n",
       "       [0.72303381],\n",
       "       [0.76244267],\n",
       "       [0.75547811],\n",
       "       [0.75913029],\n",
       "       [0.75352469],\n",
       "       [0.73483948],\n",
       "       [0.73280104],\n",
       "       [0.75913029],\n",
       "       [0.76065902],\n",
       "       [0.80422964],\n",
       "       [0.79098013],\n",
       "       [0.82384912],\n",
       "       [0.82393401],\n",
       "       [0.79420749],\n",
       "       [0.80066248],\n",
       "       [0.80643785],\n",
       "       [0.80185153],\n",
       "       [0.8027858 ],\n",
       "       [0.80618306],\n",
       "       [0.77985394],\n",
       "       [0.78095798],\n",
       "       [0.75811101],\n",
       "       [0.74120945],\n",
       "       [0.74817388],\n",
       "       [0.75989466],\n",
       "       [0.73985049],\n",
       "       [0.75259042],\n",
       "       [0.7450314 ],\n",
       "       [0.72524202],\n",
       "       [0.66978085],\n",
       "       [0.74494651],\n",
       "       [0.71343635],\n",
       "       [0.73721759],\n",
       "       [0.78809244],\n",
       "       [0.78359088],\n",
       "       [0.81586541],\n",
       "       [0.82376423],\n",
       "       [0.89884489],\n",
       "       [0.88364195],\n",
       "       [0.89570241],\n",
       "       [0.90657381],\n",
       "       [0.87905551],\n",
       "       [0.86784443],\n",
       "       [0.86860879],\n",
       "       [0.83939186],\n",
       "       [0.84491244],\n",
       "       [0.91379303],\n",
       "       [0.95906228],\n",
       "       [0.96262945],\n",
       "       [0.90716827],\n",
       "       [0.89069127],\n",
       "       [0.94114143],\n",
       "       [0.93230847],\n",
       "       [0.91803967],\n",
       "       [0.88211309],\n",
       "       [0.89876   ],\n",
       "       [1.        ],\n",
       "       [0.93714958],\n",
       "       [0.94182091],\n",
       "       [0.95617459],\n",
       "       [0.95965687],\n",
       "       [0.95625948],\n",
       "       [0.93485648],\n",
       "       [0.94334977],\n",
       "       [0.91820958],\n",
       "       [0.90852723],\n",
       "       [0.9231357 ],\n",
       "       [0.88805837],\n",
       "       [0.85400033],\n",
       "       [0.87260065],\n",
       "       [0.86419225],\n",
       "       [0.85510449],\n",
       "       [0.86087987],\n",
       "       [0.85230169],\n",
       "       [0.89009681],\n",
       "       [0.88610495],\n",
       "       [0.89655166],\n",
       "       [0.87812124],\n",
       "       [0.87608293],\n",
       "       [0.88092404],\n",
       "       [0.86903349],\n",
       "       [0.8605402 ],\n",
       "       [0.87727199],\n",
       "       [0.86427713],\n",
       "       [0.87557323],\n",
       "       [0.87701707],\n",
       "       [0.83760821],\n",
       "       [0.84032612],\n",
       "       [0.83735342],\n",
       "       [0.83956176],\n",
       "       [0.85017837],\n",
       "       [0.85332085],\n",
       "       [0.84270423],\n",
       "       [0.85918124],\n",
       "       [0.86504163],\n",
       "       [0.86070997],\n",
       "       [0.85000847],\n",
       "       [0.82673681],\n",
       "       [0.82911492],\n",
       "       [0.85501948],\n",
       "       [0.85043316],\n",
       "       [0.82809577],\n",
       "       [0.79565147],\n",
       "       [0.79981309],\n",
       "       [0.76040423],\n",
       "       [0.72965857],\n",
       "       [0.72626117],\n",
       "       [0.72277902],\n",
       "       [0.74052997],\n",
       "       [0.74936293],\n",
       "       [0.76558515],\n",
       "       [0.78138267],\n",
       "       [0.78393068],\n",
       "       [0.80575837],\n",
       "       [0.80244599],\n",
       "       [0.80405974],\n",
       "       [0.78843212],\n",
       "       [0.78197726],\n",
       "       [0.78996085],\n",
       "       [0.78834723],\n",
       "       [0.78274163],\n",
       "       [0.7802785 ],\n",
       "       [0.78478006],\n",
       "       [0.79165961],\n",
       "       [0.79845414],\n",
       "       [0.77874977],\n",
       "       [0.76855785],\n",
       "       [0.76847283],\n",
       "       [0.74953283],\n",
       "       [0.76269746],\n",
       "       [0.7587056 ],\n",
       "       [0.77424834],\n",
       "       [0.79633081],\n",
       "       [0.79989811],\n",
       "       [0.78478006],\n",
       "       [0.76235766],\n",
       "       [0.77798541],\n",
       "       [0.79064033],\n",
       "       [0.78936638],\n",
       "       [0.76031935],\n",
       "       [0.75293023],\n",
       "       [0.75276033],\n",
       "       [0.78877179],\n",
       "       [0.85111264],\n",
       "       [0.84491244],\n",
       "       [0.84295902],\n",
       "       [0.84915909],\n",
       "       [0.8080516 ],\n",
       "       [0.75403427],\n",
       "       [0.78630879],\n",
       "       [0.78749785],\n",
       "       [0.77254971],\n",
       "       [0.78112788],\n",
       "       [0.80321049],\n",
       "       [0.80966534],\n",
       "       [0.80626808],\n",
       "       [0.79989811],\n",
       "       [0.78010873],\n",
       "       [0.77611687],\n",
       "       [0.75437407],\n",
       "       [0.75089179],\n",
       "       [0.78596912],\n",
       "       [0.78953629],\n",
       "       [0.78605401],\n",
       "       [0.78902671],\n",
       "       [0.79768977],\n",
       "       [0.80788169],\n",
       "       [0.82308476],\n",
       "       [0.80618306],\n",
       "       [0.77849498],\n",
       "       [0.76923733],\n",
       "       [0.75658228],\n",
       "       [0.77246469],\n",
       "       [0.79403772],\n",
       "       [0.80091726],\n",
       "       [0.79955831],\n",
       "       [0.78469505],\n",
       "       [0.81510104],\n",
       "       [0.81374209],\n",
       "       [0.82495329],\n",
       "       [0.8434686 ],\n",
       "       [0.82970951],\n",
       "       [0.82240528],\n",
       "       [0.85077283],\n",
       "       [0.85765238],\n",
       "       [0.86410736],\n",
       "       [0.8489043 ],\n",
       "       [0.85620853],\n",
       "       [0.83429583],\n",
       "       [0.85136743],\n",
       "       [0.84227954],\n",
       "       [0.84338371],\n",
       "       [0.80210632],\n",
       "       [0.73891622],\n",
       "       [0.75997954],\n",
       "       [0.78206215],\n",
       "       [0.77993883],\n",
       "       [0.79913362],\n",
       "       [0.76736879],\n",
       "       [0.75174104],\n",
       "       [0.72192964],\n",
       "       [0.78002371],\n",
       "       [0.75836593],\n",
       "       [0.76813316],\n",
       "       [0.77552228],\n",
       "       [0.79446241],\n",
       "       [0.78622391],\n",
       "       [0.7588755 ],\n",
       "       [0.75556313],\n",
       "       [0.75411928],\n",
       "       [0.76643453],\n",
       "       [0.7838458 ],\n",
       "       [0.73866143],\n",
       "       [0.73900111],\n",
       "       [0.73365042],\n",
       "       [0.74036007],\n",
       "       [0.72405296],\n",
       "       [0.74605055],\n",
       "       [0.74630534],\n",
       "       [0.72515713],\n",
       "       [0.72626117],\n",
       "       [0.72108039],\n",
       "       [0.73059283],\n",
       "       [0.72753524],\n",
       "       [0.72965857],\n",
       "       [0.7313572 ],\n",
       "       [0.77679635],\n",
       "       [0.78732795],\n",
       "       [0.7723798 ],\n",
       "       [0.7667742 ],\n",
       "       [0.66196704],\n",
       "       [0.64090371],\n",
       "       [0.63071166],\n",
       "       [0.63410906],\n",
       "       [0.62136912],\n",
       "       [0.60650586],\n",
       "       [0.59308645],\n",
       "       [0.59444541],\n",
       "       [0.56786137],\n",
       "       [0.57049427],\n",
       "       [0.54306098],\n",
       "       [0.54051296],\n",
       "       [0.51579746],\n",
       "       [0.49244091],\n",
       "       [0.53533205],\n",
       "       [0.52700866],\n",
       "       [0.56225577],\n",
       "       [0.56599283],\n",
       "       [0.58748085],\n",
       "       [0.58408358],\n",
       "       [0.58213016],\n",
       "       [0.56276534],\n",
       "       [0.55146938],\n",
       "       [0.56251055],\n",
       "       [0.54849668],\n",
       "       [0.54858156],\n",
       "       [0.52913199],\n",
       "       [0.56803127],\n",
       "       [0.57508072],\n",
       "       [0.58994397],\n",
       "       [0.58289453],\n",
       "       [0.60327837],\n",
       "       [0.60047557],\n",
       "       [0.60947844],\n",
       "       [0.60064547],\n",
       "       [0.61652788],\n",
       "       [0.6077798 ],\n",
       "       [0.60319349],\n",
       "       [0.61771694],\n",
       "       [0.62561577],\n",
       "       [0.61516906],\n",
       "       [0.62612534],\n",
       "       [0.62536098],\n",
       "       [0.60531681],\n",
       "       [0.57559029],\n",
       "       [0.57839309],\n",
       "       [0.56004756],\n",
       "       [0.53889922],\n",
       "       [0.45192801],\n",
       "       [0.45260749],\n",
       "       [0.44453876],\n",
       "       [0.41982339],\n",
       "       [0.43528111],\n",
       "       [0.46254463],\n",
       "       [0.49940547],\n",
       "       [0.51231531],\n",
       "       [0.49643277],\n",
       "       [0.47443518],\n",
       "       [0.49133687],\n",
       "       [0.4954985 ],\n",
       "       [0.49524371],\n",
       "       [0.53558684],\n",
       "       [0.57745883],\n",
       "       [0.55461186],\n",
       "       [0.56633264],\n",
       "       [0.59920163],\n",
       "       [0.61304573],\n",
       "       [0.58416847],\n",
       "       [0.57066417],\n",
       "       [0.54289108],\n",
       "       [0.52403596],\n",
       "       [0.55401726],\n",
       "       [0.55512143],\n",
       "       [0.54603368],\n",
       "       [0.52259212],\n",
       "       [0.53652111],\n",
       "       [0.52148808],\n",
       "       [0.48029557],\n",
       "       [0.41897401],\n",
       "       [0.40411075],\n",
       "       [0.42024795],\n",
       "       [0.42016306],\n",
       "       [0.40411075],\n",
       "       [0.38100899],\n",
       "       [0.42491928],\n",
       "       [0.45838287],\n",
       "       [0.46967896],\n",
       "       [0.4767284 ],\n",
       "       [0.46245961],\n",
       "       [0.47511466],\n",
       "       [0.45413622],\n",
       "       [0.46534743],\n",
       "       [0.46687616],\n",
       "       [0.46330899],\n",
       "       [0.49439446],\n",
       "       [0.48233401],\n",
       "       [0.45005948],\n",
       "       [0.44870052],\n",
       "       [0.46211993],\n",
       "       [0.43697974],\n",
       "       [0.41107531],\n",
       "       [0.4051299 ],\n",
       "       [0.4051299 ],\n",
       "       [0.39476808],\n",
       "       [0.39638182],\n",
       "       [0.40920677],\n",
       "       [0.39323935],\n",
       "       [0.37030743],\n",
       "       [0.40538469],\n",
       "       [0.34312893],\n",
       "       [0.31841349],\n",
       "       [0.28962117],\n",
       "       [0.3038899 ],\n",
       "       [0.26838795],\n",
       "       [0.26363173],\n",
       "       [0.26431121],\n",
       "       [0.23322573],\n",
       "       [0.24910821],\n",
       "       [0.2495329 ],\n",
       "       [0.27195518],\n",
       "       [0.24154919],\n",
       "       [0.22184476],\n",
       "       [0.19373199],\n",
       "       [0.19967726],\n",
       "       [0.17869883],\n",
       "       [0.17105485],\n",
       "       [0.19670463],\n",
       "       [0.17844404],\n",
       "       [0.20783081],\n",
       "       [0.17096997],\n",
       "       [0.16111772],\n",
       "       [0.15500254],\n",
       "       [0.18396469],\n",
       "       [0.14795309],\n",
       "       [0.16213694],\n",
       "       [0.18209616],\n",
       "       [0.21360625],\n",
       "       [0.22311876],\n",
       "       [0.21250215],\n",
       "       [0.22677088],\n",
       "       [0.2080856 ],\n",
       "       [0.20095127],\n",
       "       [0.20061153],\n",
       "       [0.19678951],\n",
       "       [0.16247668],\n",
       "       [0.12935283],\n",
       "       [0.09801257],\n",
       "       [0.08535759],\n",
       "       [0.09945642],\n",
       "       [0.08586717],\n",
       "       [0.08637674],\n",
       "       [0.07745883],\n",
       "       [0.07924241],\n",
       "       [0.08603707],\n",
       "       [0.11559368],\n",
       "       [0.10565655],\n",
       "       [0.09979616],\n",
       "       [0.097503  ],\n",
       "       [0.08688638],\n",
       "       [0.10166469],\n",
       "       [0.11049772],\n",
       "       [0.10115511],\n",
       "       [0.11262104],\n",
       "       [0.09928658],\n",
       "       [0.08043147],\n",
       "       [0.08009173],\n",
       "       [0.07448619],\n",
       "       [0.06514352],\n",
       "       [0.09368098],\n",
       "       [0.09792762],\n",
       "       [0.13113642],\n",
       "       [0.1629013 ],\n",
       "       [0.16995075],\n",
       "       [0.15755055],\n",
       "       [0.15729577],\n",
       "       [0.13258026],\n",
       "       [0.16417531],\n",
       "       [0.17606593],\n",
       "       [0.18625785],\n",
       "       [0.18727707],\n",
       "       [0.17445218],\n",
       "       [0.21105824],\n",
       "       [0.20341433],\n",
       "       [0.19075928],\n",
       "       [0.21182267],\n",
       "       [0.20349922],\n",
       "       [0.24002039],\n",
       "       [0.28469511],\n",
       "       [0.31764906],\n",
       "       [0.34049603],\n",
       "       [0.3464413 ],\n",
       "       [0.32818072],\n",
       "       [0.32699166],\n",
       "       [0.30550365],\n",
       "       [0.26983186],\n",
       "       [0.26065909],\n",
       "       [0.27382371],\n",
       "       [0.28274163],\n",
       "       [0.25394938],\n",
       "       [0.249363  ],\n",
       "       [0.24002039],\n",
       "       [0.23704775],\n",
       "       [0.24086971],\n",
       "       [0.22957362],\n",
       "       [0.22014606],\n",
       "       [0.24222866],\n",
       "       [0.23917107],\n",
       "       [0.26337694],\n",
       "       [0.27365381],\n",
       "       [0.2343299 ],\n",
       "       [0.24061492],\n",
       "       [0.2259215 ],\n",
       "       [0.20451844],\n",
       "       [0.21233225],\n",
       "       [0.198743  ],\n",
       "       [0.17258365],\n",
       "       [0.15279433],\n",
       "       [0.13020215],\n",
       "       [0.11848143],\n",
       "       [0.09920163],\n",
       "       [0.12935283],\n",
       "       [0.11279088],\n",
       "       [0.08629186],\n",
       "       [0.11007303],\n",
       "       [0.14667915],\n",
       "       [0.14124345],\n",
       "       [0.13478853],\n",
       "       [0.11032788],\n",
       "       [0.0933413 ],\n",
       "       [0.07584508],\n",
       "       [0.07847805],\n",
       "       [0.10591134],\n",
       "       [0.08731101],\n",
       "       [0.11177173],\n",
       "       [0.12153902],\n",
       "       [0.12587055],\n",
       "       [0.12247322],\n",
       "       [0.15177511],\n",
       "       [0.14905726],\n",
       "       [0.17147954],\n",
       "       [0.1737727 ],\n",
       "       [0.17215902],\n",
       "       [0.18498384],\n",
       "       [0.18999492],\n",
       "       [0.18540853],\n",
       "       [0.14990658],\n",
       "       [0.12807883],\n",
       "       [0.13088163],\n",
       "       [0.13810091],\n",
       "       [0.13359948],\n",
       "       [0.0219127 ],\n",
       "       [0.0534228 ],\n",
       "       [0.0920673 ],\n",
       "       [0.08586717],\n",
       "       [0.09631394],\n",
       "       [0.08306436],\n",
       "       [0.06183114],\n",
       "       [0.06480384],\n",
       "       [0.11389505],\n",
       "       [0.10225922],\n",
       "       [0.12493629],\n",
       "       [0.1248514 ],\n",
       "       [0.09784274],\n",
       "       [0.08934945],\n",
       "       [0.11635811],\n",
       "       [0.12247322],\n",
       "       [0.12960762],\n",
       "       [0.09988111],\n",
       "       [0.06896554],\n",
       "       [0.06777648],\n",
       "       [0.07117381],\n",
       "       [0.07822319],\n",
       "       [0.08909466],\n",
       "       [0.08943433],\n",
       "       [0.08476306],\n",
       "       [0.05367759],\n",
       "       [0.05019537],\n",
       "       [0.0136742 ],\n",
       "       [0.02420586],\n",
       "       [0.02335655],\n",
       "       [0.02123322],\n",
       "       [0.03261427],\n",
       "       [0.01868528],\n",
       "       [0.        ],\n",
       "       [0.02556482],\n",
       "       [0.02301681],\n",
       "       [0.04076782],\n",
       "       [0.06633264],\n",
       "       [0.065823  ],\n",
       "       [0.08280958],\n",
       "       [0.09002886],\n",
       "       [0.09673857],\n",
       "       [0.10327844],\n",
       "       [0.13283505],\n",
       "       [0.12935283],\n",
       "       [0.13368443],\n",
       "       [0.12629524],\n",
       "       [0.12663498],\n",
       "       [0.16400547],\n",
       "       [0.18277564],\n",
       "       [0.18540853],\n",
       "       [0.20341433],\n",
       "       [0.21683368],\n",
       "       [0.21547479],\n",
       "       [0.19891283],\n",
       "       [0.20655681],\n",
       "       [0.21420078],\n",
       "       [0.24664515],\n",
       "       [0.22541192],\n",
       "       [0.21827759],\n",
       "       [0.23322573],\n",
       "       [0.23449974],\n",
       "       [0.22243928],\n",
       "       [0.20290469],\n",
       "       [0.19950743],\n",
       "       [0.19950743],\n",
       "       [0.21292678],\n",
       "       [0.18396469],\n",
       "       [0.17878378],\n",
       "       [0.15219974],\n",
       "       [0.14871752],\n",
       "       [0.14914221],\n",
       "       [0.13699681],\n",
       "       [0.13827075],\n",
       "       [0.13113642],\n",
       "       [0.1220486 ],\n",
       "       [0.12527603],\n",
       "       [0.14413114],\n",
       "       [0.1400544 ],\n",
       "       [0.12646508],\n",
       "       [0.12850352],\n",
       "       [0.10166469],\n",
       "       [0.07983694],\n",
       "       [0.07159844],\n",
       "       [0.07805335],\n",
       "       [0.07584508],\n",
       "       [0.08595212],\n",
       "       [0.0766944 ],\n",
       "       [0.08535759],\n",
       "       [0.10506202],\n",
       "       [0.09113303],\n",
       "       [0.09903179],\n",
       "       [0.08416853],\n",
       "       [0.09724821],\n",
       "       [0.09045355],\n",
       "       [0.10786482],\n",
       "       [0.11831153],\n",
       "       [0.1355529 ],\n",
       "       [0.13241042],\n",
       "       [0.13079668],\n",
       "       [0.13368443],\n",
       "       [0.13419401],\n",
       "       [0.14132834],\n",
       "       [0.13801596],\n",
       "       [0.11695264],\n",
       "       [0.14158313],\n",
       "       [0.13359948],\n",
       "       [0.13699681],\n",
       "       [0.14234756],\n",
       "       [0.12383218],\n",
       "       [0.11805674],\n",
       "       [0.13079668],\n",
       "       [0.13173094],\n",
       "       [0.11754717],\n",
       "       [0.10565655],\n",
       "       [0.13385427],\n",
       "       [0.15568202],\n",
       "       [0.15321896],\n",
       "       [0.13954476],\n",
       "       [0.14175303],\n",
       "       [0.11279088],\n",
       "       [0.13886528],\n",
       "       [0.15967388],\n",
       "       [0.15296417],\n",
       "       [0.14413114],\n",
       "       [0.06913537],\n",
       "       [0.06641752]])"
      ]
     },
     "execution_count": 18,
     "metadata": {},
     "output_type": "execute_result"
    }
   ],
   "source": [
    "scaler = MinMaxScaler(feature_range=(0,1))\n",
    "scaled_data = scaler.fit_transform(DIS)\n",
    "\n",
    "scaled_data"
   ]
  },
  {
   "cell_type": "code",
   "execution_count": 19,
   "id": "b5404943",
   "metadata": {
    "colab": {
     "base_uri": "https://localhost:8080/"
    },
    "id": "b5404943",
    "outputId": "99a312cc-c10e-49a4-c322-5317502f9e64"
   },
   "outputs": [
    {
     "name": "stdout",
     "output_type": "stream",
     "text": [
      "[array([0.15924919, 0.18464417, 0.21131309, 0.27756072, 0.25649739,\n",
      "       0.30363511, 0.28588417, 0.28749785, 0.31238319, 0.31730932,\n",
      "       0.2767114 , 0.28138274, 0.29386782, 0.29369798, 0.32282997,\n",
      "       0.33565485, 0.34525225, 0.36614573, 0.33735349, 0.32282997,\n",
      "       0.24180397, 0.26600984, 0.2795142 , 0.29106508, 0.28435537,\n",
      "       0.29047055, 0.25632749, 0.26966195, 0.27535244, 0.2369628 ,\n",
      "       0.23093257, 0.21173772, 0.23229147, 0.23220658, 0.24494651,\n",
      "       0.23789707, 0.25700697, 0.25021231, 0.27594704, 0.27722098,\n",
      "       0.29870899, 0.27220997, 0.29293362, 0.31195857, 0.29947342,\n",
      "       0.29284866, 0.28554443, 0.29259388, 0.29607609, 0.28834723,\n",
      "       0.28401564, 0.27297433, 0.27187023, 0.26702906, 0.26745375,\n",
      "       0.27832515, 0.27331407, 0.28129778, 0.36894853, 0.39621205])]\n",
      "[0.3886528993706624]\n",
      "\n"
     ]
    }
   ],
   "source": [
    "train_data = scaled_data[0:train_data_len,:]\n",
    "\n",
    "#Split the data into x_train and y_train data set\n",
    "\n",
    "x_train=[]\n",
    "y_train=[]\n",
    "\n",
    "for i in range(60, len(train_data)):\n",
    "    x_train.append(train_data[i-60:i,0])\n",
    "    y_train.append(train_data[i,0])\n",
    "    if i<=60:\n",
    "        print(x_train)\n",
    "        print(y_train)\n",
    "        print()"
   ]
  },
  {
   "cell_type": "code",
   "execution_count": 20,
   "id": "5cb4dcc8",
   "metadata": {
    "colab": {
     "base_uri": "https://localhost:8080/"
    },
    "id": "5cb4dcc8",
    "outputId": "1f7233dc-668e-4c95-ae32-d20b548fa9aa"
   },
   "outputs": [
    {
     "data": {
      "text/plain": [
       "(545, 60, 1)"
      ]
     },
     "execution_count": 20,
     "metadata": {},
     "output_type": "execute_result"
    }
   ],
   "source": [
    "x_train, y_train = np.array(x_train), np.array(y_train)\n",
    "x_train = np.reshape(x_train, (x_train.shape[0], x_train.shape[1], 1))\n",
    "x_train.shape"
   ]
  },
  {
   "cell_type": "markdown",
   "id": "d98af24f",
   "metadata": {
    "id": "d98af24f"
   },
   "source": [
    "# model train"
   ]
  },
  {
   "cell_type": "code",
   "execution_count": 21,
   "id": "17489139",
   "metadata": {
    "id": "17489139"
   },
   "outputs": [],
   "source": [
    "from keras.preprocessing.sequence import TimeseriesGenerator"
   ]
  },
  {
   "cell_type": "code",
   "execution_count": 22,
   "id": "93ac01b3",
   "metadata": {
    "id": "93ac01b3"
   },
   "outputs": [],
   "source": [
    "from keras.models import Sequential\n",
    "from keras.layers import Dense\n",
    "from keras.layers import LSTM"
   ]
  },
  {
   "cell_type": "code",
   "execution_count": 23,
   "id": "5275b86e",
   "metadata": {
    "id": "5275b86e"
   },
   "outputs": [],
   "source": [
    "model=Sequential()\n",
    "model.add(LSTM(50, return_sequences=True, input_shape=(x_train.shape[1],1)))\n",
    "model.add(LSTM(50, return_sequences=False))\n",
    "model.add(Dense(25))\n",
    "model.add(Dense(1))"
   ]
  },
  {
   "cell_type": "code",
   "execution_count": 24,
   "id": "2b9e3140",
   "metadata": {
    "colab": {
     "base_uri": "https://localhost:8080/"
    },
    "id": "2b9e3140",
    "outputId": "930d2fd0-3ac0-44d8-c9ec-408846ee9c96"
   },
   "outputs": [
    {
     "name": "stdout",
     "output_type": "stream",
     "text": [
      "Model: \"sequential\"\n",
      "_________________________________________________________________\n",
      " Layer (type)                Output Shape              Param #   \n",
      "=================================================================\n",
      " lstm (LSTM)                 (None, 60, 50)            10400     \n",
      "                                                                 \n",
      " lstm_1 (LSTM)               (None, 50)                20200     \n",
      "                                                                 \n",
      " dense (Dense)               (None, 25)                1275      \n",
      "                                                                 \n",
      " dense_1 (Dense)             (None, 1)                 26        \n",
      "                                                                 \n",
      "=================================================================\n",
      "Total params: 31,901\n",
      "Trainable params: 31,901\n",
      "Non-trainable params: 0\n",
      "_________________________________________________________________\n"
     ]
    }
   ],
   "source": [
    "model.compile(optimizer='adam', loss='mse')\n",
    "model.summary()"
   ]
  },
  {
   "cell_type": "code",
   "execution_count": 25,
   "id": "67160c4e",
   "metadata": {
    "colab": {
     "base_uri": "https://localhost:8080/"
    },
    "id": "67160c4e",
    "outputId": "b715283c-1290-4da0-ea9e-f737ce4a9501"
   },
   "outputs": [
    {
     "name": "stdout",
     "output_type": "stream",
     "text": [
      "Epoch 1/3\n",
      "545/545 [==============================] - 42s 63ms/step - loss: 0.0070\n",
      "Epoch 2/3\n",
      "545/545 [==============================] - 33s 61ms/step - loss: 0.0031\n",
      "Epoch 3/3\n",
      "545/545 [==============================] - 33s 61ms/step - loss: 0.0021\n"
     ]
    },
    {
     "data": {
      "text/plain": [
       "<keras.callbacks.History at 0x2681f8eb310>"
      ]
     },
     "execution_count": 25,
     "metadata": {},
     "output_type": "execute_result"
    }
   ],
   "source": [
    "model.fit(x_train, y_train, batch_size=1,epochs=3 )"
   ]
  },
  {
   "cell_type": "markdown",
   "id": "cf801e5b",
   "metadata": {
    "id": "cf801e5b"
   },
   "source": [
    "# test/ validate "
   ]
  },
  {
   "cell_type": "code",
   "execution_count": 26,
   "id": "1695c644",
   "metadata": {
    "id": "1695c644"
   },
   "outputs": [],
   "source": [
    "test_data = scaled_data[train_data_len - 60:, :]\n",
    "x_test = []\n",
    "y_test = data[train_data_len:, :]\n",
    "for i in range(60, len(test_data)):\n",
    "    x_test.append(test_data[i-60:i, 0])\n",
    "x_test = np.array(x_test)\n",
    "x_test = np.reshape(x_test, (x_test.shape[0], x_test.shape[1], 1))"
   ]
  },
  {
   "cell_type": "code",
   "execution_count": 27,
   "id": "7b624ec4",
   "metadata": {
    "id": "7b624ec4"
   },
   "outputs": [],
   "source": [
    "x_test=np.array(x_test)\n",
    "x_test=np.reshape(x_test,(x_test.shape[0], x_test.shape[1], 1))"
   ]
  },
  {
   "cell_type": "code",
   "execution_count": 28,
   "id": "6ac4b41f",
   "metadata": {
    "colab": {
     "base_uri": "https://localhost:8080/"
    },
    "id": "6ac4b41f",
    "outputId": "cf9c7987-9cc5-40bd-aab0-0891dc2b4d97"
   },
   "outputs": [
    {
     "name": "stdout",
     "output_type": "stream",
     "text": [
      "5/5 [==============================] - 3s 46ms/step\n"
     ]
    }
   ],
   "source": [
    "predictions=model.predict(x_test)\n",
    "predictions=scaler.inverse_transform(predictions)"
   ]
  },
  {
   "cell_type": "code",
   "execution_count": 29,
   "id": "d94c5a5b",
   "metadata": {
    "colab": {
     "base_uri": "https://localhost:8080/"
    },
    "id": "d94c5a5b",
    "outputId": "2f794e75-fc2d-4c30-e909-3ded9e67f400"
   },
   "outputs": [
    {
     "data": {
      "text/plain": [
       "0.20886124364587644"
      ]
     },
     "execution_count": 29,
     "metadata": {},
     "output_type": "execute_result"
    }
   ],
   "source": [
    "rmse =np.sqrt(np.mean(predictions-y_test)**2)\n",
    "rmse"
   ]
  },
  {
   "cell_type": "markdown",
   "id": "d613a0a6",
   "metadata": {
    "id": "d613a0a6"
   },
   "source": [
    "# graphs"
   ]
  },
  {
   "cell_type": "code",
   "execution_count": 33,
   "id": "c12e3c91",
   "metadata": {
    "id": "c12e3c91"
   },
   "outputs": [
    {
     "name": "stderr",
     "output_type": "stream",
     "text": [
      "C:\\Users\\ellen\\AppData\\Local\\Temp\\ipykernel_2460\\204670603.py:3: SettingWithCopyWarning: \n",
      "A value is trying to be set on a copy of a slice from a DataFrame.\n",
      "Try using .loc[row_indexer,col_indexer] = value instead\n",
      "\n",
      "See the caveats in the documentation: https://pandas.pydata.org/pandas-docs/stable/user_guide/indexing.html#returning-a-view-versus-a-copy\n",
      "  valid['predictions'] = predictions\n"
     ]
    },
    {
     "data": {
      "image/png": "[encoded data removed]",
      "text/plain": [
       "<Figure size 1600x800 with 1 Axes>"
      ]
     },
     "metadata": {},
     "output_type": "display_data"
    }
   ],
   "source": [
    "train=DIS[:train_data_len]\n",
    "valid=DIS[train_data_len:]\n",
    "valid['predictions'] = predictions\n",
    "\n",
    "#Visualize the data\n",
    "plt.figure(figsize=(16,8))\n",
    "plt.title('Walt Disney shares')\n",
    "plt.xlabel('Date', fontsize=18)\n",
    "plt.ylabel('Close Price USD($)', fontsize=18)\n",
    "plt.plot(train['Close'] , color='black')\n",
    "plt.plot(valid['Close'] , color='yellow')\n",
    "plt.plot(valid[ 'predictions'] , color='red')\n",
    "plt.legend(['Train','Validation', 'predictions'], loc='lower right')\n",
    "plt.show()"
   ]
  },
  {
   "cell_type": "code",
   "execution_count": 35,
   "id": "4deff9f5",
   "metadata": {
    "id": "4deff9f5"
   },
   "outputs": [
    {
     "data": {
      "text/html": [
       "<div>\n",
       "<style scoped>\n",
       "    .dataframe tbody tr th:only-of-type {\n",
       "        vertical-align: middle;\n",
       "    }\n",
       "\n",
       "    .dataframe tbody tr th {\n",
       "        vertical-align: top;\n",
       "    }\n",
       "\n",
       "    .dataframe thead th {\n",
       "        text-align: right;\n",
       "    }\n",
       "</style>\n",
       "<table border=\"1\" class=\"dataframe\">\n",
       "  <thead>\n",
       "    <tr style=\"text-align: right;\">\n",
       "      <th></th>\n",
       "      <th>Close</th>\n",
       "      <th>predictions</th>\n",
       "    </tr>\n",
       "    <tr>\n",
       "      <th>Date</th>\n",
       "      <th></th>\n",
       "      <th></th>\n",
       "    </tr>\n",
       "  </thead>\n",
       "  <tbody>\n",
       "    <tr>\n",
       "      <th>2023-05-08</th>\n",
       "      <td>102.970001</td>\n",
       "      <td>100.348480</td>\n",
       "    </tr>\n",
       "    <tr>\n",
       "      <th>2023-05-09</th>\n",
       "      <td>102.180000</td>\n",
       "      <td>100.711609</td>\n",
       "    </tr>\n",
       "    <tr>\n",
       "      <th>2023-05-10</th>\n",
       "      <td>101.139999</td>\n",
       "      <td>101.171669</td>\n",
       "    </tr>\n",
       "    <tr>\n",
       "      <th>2023-05-11</th>\n",
       "      <td>92.309998</td>\n",
       "      <td>101.387451</td>\n",
       "    </tr>\n",
       "    <tr>\n",
       "      <th>2023-05-12</th>\n",
       "      <td>91.989998</td>\n",
       "      <td>99.737183</td>\n",
       "    </tr>\n",
       "  </tbody>\n",
       "</table>\n",
       "</div>"
      ],
      "text/plain": [
       "                 Close  predictions\n",
       "Date                               \n",
       "2023-05-08  102.970001   100.348480\n",
       "2023-05-09  102.180000   100.711609\n",
       "2023-05-10  101.139999   101.171669\n",
       "2023-05-11   92.309998   101.387451\n",
       "2023-05-12   91.989998    99.737183"
      ]
     },
     "execution_count": 35,
     "metadata": {},
     "output_type": "execute_result"
    }
   ],
   "source": [
    "valid.tail()"
   ]
  },
  {
   "cell_type": "code",
   "execution_count": 36,
   "id": "96078b81",
   "metadata": {},
   "outputs": [
    {
     "data": {
      "text/html": [
       "<div>\n",
       "<style scoped>\n",
       "    .dataframe tbody tr th:only-of-type {\n",
       "        vertical-align: middle;\n",
       "    }\n",
       "\n",
       "    .dataframe tbody tr th {\n",
       "        vertical-align: top;\n",
       "    }\n",
       "\n",
       "    .dataframe thead th {\n",
       "        text-align: right;\n",
       "    }\n",
       "</style>\n",
       "<table border=\"1\" class=\"dataframe\">\n",
       "  <thead>\n",
       "    <tr style=\"text-align: right;\">\n",
       "      <th></th>\n",
       "      <th>Close</th>\n",
       "    </tr>\n",
       "    <tr>\n",
       "      <th>Date</th>\n",
       "      <th></th>\n",
       "    </tr>\n",
       "  </thead>\n",
       "  <tbody>\n",
       "    <tr>\n",
       "      <th>2020-05-13</th>\n",
       "      <td>102.919998</td>\n",
       "    </tr>\n",
       "    <tr>\n",
       "      <th>2020-05-14</th>\n",
       "      <td>105.910004</td>\n",
       "    </tr>\n",
       "    <tr>\n",
       "      <th>2020-05-15</th>\n",
       "      <td>109.050003</td>\n",
       "    </tr>\n",
       "    <tr>\n",
       "      <th>2020-05-18</th>\n",
       "      <td>116.849998</td>\n",
       "    </tr>\n",
       "    <tr>\n",
       "      <th>2020-05-19</th>\n",
       "      <td>114.370003</td>\n",
       "    </tr>\n",
       "    <tr>\n",
       "      <th>...</th>\n",
       "      <td>...</td>\n",
       "    </tr>\n",
       "    <tr>\n",
       "      <th>2023-05-08</th>\n",
       "      <td>102.970001</td>\n",
       "    </tr>\n",
       "    <tr>\n",
       "      <th>2023-05-09</th>\n",
       "      <td>102.180000</td>\n",
       "    </tr>\n",
       "    <tr>\n",
       "      <th>2023-05-10</th>\n",
       "      <td>101.139999</td>\n",
       "    </tr>\n",
       "    <tr>\n",
       "      <th>2023-05-11</th>\n",
       "      <td>92.309998</td>\n",
       "    </tr>\n",
       "    <tr>\n",
       "      <th>2023-05-12</th>\n",
       "      <td>91.989998</td>\n",
       "    </tr>\n",
       "  </tbody>\n",
       "</table>\n",
       "<p>756 rows × 1 columns</p>\n",
       "</div>"
      ],
      "text/plain": [
       "                 Close\n",
       "Date                  \n",
       "2020-05-13  102.919998\n",
       "2020-05-14  105.910004\n",
       "2020-05-15  109.050003\n",
       "2020-05-18  116.849998\n",
       "2020-05-19  114.370003\n",
       "...                ...\n",
       "2023-05-08  102.970001\n",
       "2023-05-09  102.180000\n",
       "2023-05-10  101.139999\n",
       "2023-05-11   92.309998\n",
       "2023-05-12   91.989998\n",
       "\n",
       "[756 rows x 1 columns]"
      ]
     },
     "execution_count": 36,
     "metadata": {},
     "output_type": "execute_result"
    }
   ],
   "source": [
    "DIS"
   ]
  },
  {
   "cell_type": "markdown",
   "id": "4abedf08",
   "metadata": {},
   "source": [
    "# Tomorrow predictions"
   ]
  },
  {
   "cell_type": "code",
   "execution_count": 41,
   "id": "5e524a5e",
   "metadata": {},
   "outputs": [
    {
     "name": "stdout",
     "output_type": "stream",
     "text": [
      "1/1 [==============================] - 0s 78ms/step\n",
      "Walt Disney Stock price tomorrow:[[97.4276]]\n"
     ]
    },
    {
     "name": "stderr",
     "output_type": "stream",
     "text": [
      "C:\\Users\\ellen\\anaconda3\\lib\\site-packages\\sklearn\\base.py:450: UserWarning: X does not have valid feature names, but MinMaxScaler was fitted with feature names\n",
      "  warnings.warn(\n"
     ]
    }
   ],
   "source": [
    "tmr_pred= DIS[-60:].values\n",
    "tmr_pred=scaler.transform(tmr_pred)\n",
    "\n",
    "X_test=[]\n",
    "X_test.append(tmr_pred)\n",
    "X_test=np.array(X_test)\n",
    "\n",
    "X_test = np.reshape(X_test, (X_test.shape[0], X_test.shape[1],1))\n",
    "#Get predicted scaled price\n",
    "pred_price = model.predict(X_test)\n",
    "pred_price=scaler.inverse_transform(pred_price)\n",
    "print(f'Walt Disney Stock price tomorrow:{pred_price}')"
   ]
  },
  {
   "cell_type": "code",
   "execution_count": null,
   "id": "0a845d79",
   "metadata": {},
   "outputs": [],
   "source": []
  },
  {
   "cell_type": "code",
   "execution_count": null,
   "id": "14675695",
   "metadata": {
    "id": "14675695"
   },
   "outputs": [],
   "source": [
    "pip install tensorflow"
   ]
  },
  {
   "cell_type": "code",
   "execution_count": null,
   "id": "8f60f410",
   "metadata": {
    "id": "8f60f410"
   },
   "outputs": [],
   "source": [
    "import tensorflow as tf"
   ]
  },
  {
   "cell_type": "code",
   "execution_count": null,
   "id": "3340268a",
   "metadata": {
    "id": "3340268a"
   },
   "outputs": [],
   "source": [
    "pip install keras"
   ]
  }
 ],
 "metadata": {
  "colab": {
   "provenance": []
  },
  "kernelspec": {
   "display_name": "Python 3 (ipykernel)",
   "language": "python",
   "name": "python3"
  },
  "language_info": {
   "codemirror_mode": {
    "name": "ipython",
    "version": 3
   },
   "file_extension": ".py",
   "mimetype": "text/x-python",
   "name": "python",
   "nbconvert_exporter": "python",
   "pygments_lexer": "ipython3",
   "version": "3.9.13"
  }
 },
 "nbformat": 4,
 "nbformat_minor": 5
}
